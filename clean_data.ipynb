{
 "cells": [
  {
   "cell_type": "code",
   "execution_count": 8,
   "id": "0bf14ac5",
   "metadata": {},
   "outputs": [],
   "source": [
    "import pandas as pd\n",
    "\n",
    "file_path = \"BDS.csv\""
   ]
  },
  {
   "cell_type": "code",
   "execution_count": 9,
   "id": "f2af9878",
   "metadata": {},
   "outputs": [
    {
     "name": "stdout",
     "output_type": "stream",
     "text": [
      "Số lượng hàng ban đầu: 4000\n",
      "Số lượng hàng sau khi lọc hàng rỗng: 2215\n",
      "Số lượng hàng đã bị xóa (do rỗng): 1785\n",
      "Đã loại bỏ thành công cột 'date'.\n",
      "Đã cập nhật xong trường 'property_legal_document'.\n",
      "Đã lấy ngẫu nhiên 2000 hàng từ 2215 hàng đã làm sạch.\n",
      "Đã xử lý và lưu thành công 2000 hàng vào tệp 'BDS_cleaned.csv'.\n"
     ]
    }
   ],
   "source": [
    "try:\n",
    "    df = pd.read_csv(file_path)\n",
    "\n",
    "    initial_row_count = len(df)\n",
    "    print(f\"Số lượng hàng ban đầu: {initial_row_count}\")\n",
    "\n",
    "    columns_to_check = [\n",
    "        'ad_type_name', 'area', 'price', \n",
    "        'address', 'property_legal_document', 'rooms', 'toilets'\n",
    "    ]\n",
    "    \n",
    "    missing_cols = [col for col in columns_to_check if col not in df.columns]\n",
    "    \n",
    "    if missing_cols:\n",
    "\n",
    "        print(f\"Lỗi: Các cột sau đây bị thiếu trong tệp CSV: {missing_cols}\")\n",
    "    else:\n",
    "        df_cleaned = df.dropna(subset=columns_to_check).copy()\n",
    "\n",
    "        count_after_dropna = len(df_cleaned)\n",
    "        print(f\"Số lượng hàng sau khi lọc hàng rỗng: {count_after_dropna}\")\n",
    "        print(f\"Số lượng hàng đã bị xóa (do rỗng): {initial_row_count - count_after_dropna}\")\n",
    "\n",
    "        if 'date' in df_cleaned.columns:\n",
    "            df_cleaned = df_cleaned.drop(columns=['date'])\n",
    "            print(\"Đã loại bỏ thành công cột 'date'.\")\n",
    "        else:\n",
    "            print(\"Không tìm thấy cột 'date' để loại bỏ.\")\n",
    "        \n",
    "        \n",
    "        legal_doc_mapping = {\n",
    "            1: 'đã có sổ', 1.0: 'đã có sổ',\n",
    "            2: 'đang chờ sổ', 2.0: 'đang chờ sổ',\n",
    "            3: 'chưa rõ', 3.0: 'chưa rõ',\n",
    "            4: 'không có sổ', 4.0: 'không có sổ',\n",
    "            5: 'chưa rõ', 5.0: 'chưa rõ',\n",
    "            6: 'sổ hồng riêng', 6.0: 'sổ hồng riêng'\n",
    "        }\n",
    "\n",
    "        df_cleaned['property_legal_document'] = df_cleaned['property_legal_document'].replace(legal_doc_mapping)\n",
    "        print(\"Đã cập nhật xong trường 'property_legal_document'.\")\n",
    "        \n",
    "        final_cleaned_count = len(df_cleaned)\n",
    "        \n",
    "        if final_cleaned_count > 2000:\n",
    "            df_final = df_cleaned.sample(n=2000, random_state=42)\n",
    "            print(f\"Đã lấy ngẫu nhiên 2000 hàng từ {final_cleaned_count} hàng đã làm sạch.\")\n",
    "        else:\n",
    "            df_final = df_cleaned\n",
    "            print(f\"Số lượng hàng sau khi làm sạch ({final_cleaned_count}) nhỏ hơn 2000. Giữ lại tất cả.\")\n",
    "\n",
    "        output_file = \"BDS_cleaned.csv\"\n",
    "        \n",
    "        df_final.to_csv(output_file, index=False, encoding='utf-8')\n",
    "\n",
    "        print(f\"Đã xử lý và lưu thành công {len(df_final)} hàng vào tệp '{output_file}'.\")\n",
    "\n",
    "except FileNotFoundError:\n",
    "    print(f\"Lỗi: Không tìm thấy tệp '{file_path}'.\")\n",
    "except Exception as e:\n",
    "    print(f\"Đã xảy ra lỗi: {e}\")"
   ]
  }
 ],
 "metadata": {
  "kernelspec": {
   "display_name": "Python 3",
   "language": "python",
   "name": "python3"
  },
  "language_info": {
   "codemirror_mode": {
    "name": "ipython",
    "version": 3
   },
   "file_extension": ".py",
   "mimetype": "text/x-python",
   "name": "python",
   "nbconvert_exporter": "python",
   "pygments_lexer": "ipython3",
   "version": "3.13.3"
  }
 },
 "nbformat": 4,
 "nbformat_minor": 5
}
